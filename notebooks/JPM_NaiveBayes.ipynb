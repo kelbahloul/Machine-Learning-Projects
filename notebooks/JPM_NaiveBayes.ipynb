{
 "cells": [
  {
   "cell_type": "markdown",
   "metadata": {},
   "source": [
    "# Analysis of JMorgan & Chase Co [JPM] using Regression Testing and Naive Bayes Algorithm "
   ]
  },
  {
   "cell_type": "markdown",
   "metadata": {},
   "source": [
    "Support Vector Machine (SVM), is utilized for supervised leaning models with associated algorithms that analyze data used for classification and regression analysis. The following Libaries and Packages will be listed below:\n",
    "\n",
    "- Yfinance: an API Used to pull data from Yahoo Finance servers\n",
    "- Numpy: Used for arrays, and matrices.\n",
    "- Matplotlib: an extension from Numpy, Used for plotting and graphing of the given Dataset.\n",
    "- Seaborn: Library used for statistical visualization based on Matplotlib.\n",
    "- Talib: Technical Analysis Indicators, used to help stock traders make investment decisions.\n",
    "- Sklearn: Machine Learning Package used for classification/clustering, and regression algorithms.\n",
    "\n",
    "The Dataset Used Would be based on a historical stock data from 1990-05-15-2020-05-15."
   ]
  },
  {
   "cell_type": "markdown",
   "metadata": {},
   "source": [
    "First, I imported the packages needed to perform the supervised learning model. Furthermore, I utilize the Yahoo Finance API to pull historical data. For this SVM analysis, I will be working on JPM. "
   ]
  },
  {
   "cell_type": "code",
   "execution_count": 14,
   "metadata": {},
   "outputs": [],
   "source": [
    "#Importing Packages\n",
    "from pandas_datareader import data as pdr\n",
    "import pandas as pd\n",
    "import numpy as np\n",
    "from sklearn import mixture as mix\n",
    "import seaborn as sns\n",
    "import matplotlib.pyplot as plt\n",
    "import talib as ta\n",
    "from sklearn.preprocessing import StandardScaler\n",
    "from sklearn.svm import SVC\n",
    "import yfinance as yf"
   ]
  },
  {
   "cell_type": "code",
   "execution_count": 15,
   "metadata": {},
   "outputs": [
    {
     "data": {
      "text/html": [
       "<div>\n",
       "<style scoped>\n",
       "    .dataframe tbody tr th:only-of-type {\n",
       "        vertical-align: middle;\n",
       "    }\n",
       "\n",
       "    .dataframe tbody tr th {\n",
       "        vertical-align: top;\n",
       "    }\n",
       "\n",
       "    .dataframe thead th {\n",
       "        text-align: right;\n",
       "    }\n",
       "</style>\n",
       "<table border=\"1\" class=\"dataframe\">\n",
       "  <thead>\n",
       "    <tr style=\"text-align: right;\">\n",
       "      <th></th>\n",
       "      <th>High</th>\n",
       "      <th>Low</th>\n",
       "      <th>Open</th>\n",
       "      <th>Close</th>\n",
       "    </tr>\n",
       "    <tr>\n",
       "      <th>Date</th>\n",
       "      <th></th>\n",
       "      <th></th>\n",
       "      <th></th>\n",
       "      <th></th>\n",
       "    </tr>\n",
       "  </thead>\n",
       "  <tbody>\n",
       "    <tr>\n",
       "      <th>1990-05-15</th>\n",
       "      <td>9.041667</td>\n",
       "      <td>8.666667</td>\n",
       "      <td>8.708333</td>\n",
       "      <td>8.958333</td>\n",
       "    </tr>\n",
       "    <tr>\n",
       "      <th>1990-05-16</th>\n",
       "      <td>8.916667</td>\n",
       "      <td>8.666667</td>\n",
       "      <td>8.875000</td>\n",
       "      <td>8.833333</td>\n",
       "    </tr>\n",
       "    <tr>\n",
       "      <th>1990-05-17</th>\n",
       "      <td>8.958333</td>\n",
       "      <td>8.750000</td>\n",
       "      <td>8.916667</td>\n",
       "      <td>8.833333</td>\n",
       "    </tr>\n",
       "    <tr>\n",
       "      <th>1990-05-18</th>\n",
       "      <td>9.000000</td>\n",
       "      <td>8.916667</td>\n",
       "      <td>8.958333</td>\n",
       "      <td>8.916667</td>\n",
       "    </tr>\n",
       "    <tr>\n",
       "      <th>1990-05-21</th>\n",
       "      <td>9.041667</td>\n",
       "      <td>8.791667</td>\n",
       "      <td>8.833333</td>\n",
       "      <td>8.958333</td>\n",
       "    </tr>\n",
       "  </tbody>\n",
       "</table>\n",
       "</div>"
      ],
      "text/plain": [
       "                High       Low      Open     Close\n",
       "Date                                              \n",
       "1990-05-15  9.041667  8.666667  8.708333  8.958333\n",
       "1990-05-16  8.916667  8.666667  8.875000  8.833333\n",
       "1990-05-17  8.958333  8.750000  8.916667  8.833333\n",
       "1990-05-18  9.000000  8.916667  8.958333  8.916667\n",
       "1990-05-21  9.041667  8.791667  8.833333  8.958333"
      ]
     },
     "execution_count": 15,
     "metadata": {},
     "output_type": "execute_result"
    }
   ],
   "source": [
    "#Getting Historical Stock Data From Yahoo Finance Using API\n",
    "JPM = pdr.get_data_yahoo('JPM', '1990-05-15','2020-05-15')\n",
    "JPM = JPM.dropna()\n",
    "JPM = JPM.iloc[:,:4]\n",
    "JPM.head()"
   ]
  },
  {
   "cell_type": "markdown",
   "metadata": {},
   "source": [
    "The Dataset needs to be split into training and testing. I will be splitting 70% for training and remaining 20% for testing. Its parameters can be changed as you please. Its data will be using by looking back the previous 90 days."
   ]
  },
  {
   "cell_type": "code",
   "execution_count": 16,
   "metadata": {},
   "outputs": [],
   "source": [
    "n = 90\n",
    "t = 0.7\n",
    "split = int(t*len(JPM))"
   ]
  },
  {
   "cell_type": "markdown",
   "metadata": {},
   "source": [
    "The High, Close, Low have been all shifted at 1, in order to access its historical data. After that I went ahead to coded its Technical Indicators, such as RSI, SMA, ADX, SAR, and Return of the past 1 day on a Open-Open basis. Next, its dataframe is outputted below."
   ]
  },
  {
   "cell_type": "code",
   "execution_count": 17,
   "metadata": {},
   "outputs": [],
   "source": [
    "JPM['High']=JPM['High'].shift(1)\n",
    "JPM['Low']=JPM['Low'].shift(1)\n",
    "JPM['Close']=JPM['Close'].shift(1)\n",
    "JPM['RSI']=ta.RSI(np.array(JPM['Close']), timeperiod=n)\n",
    "JPM['SMA']=JPM['Close'].rolling(window=n).mean()\n",
    "JPM['Corr']=JPM['SMA'].rolling(window=n).corr(JPM['Close'])\n",
    "JPM['SAR']=ta.SAR(np.array(JPM['High']),np.array(JPM['Low']),\\\n",
    "                  0.2,0.2)\n",
    "JPM['ADX']=ta.ADX(np.array(JPM['High']),np.array(JPM['Low']),\\\n",
    "                  np.array(JPM['Close']), timeperiod=n)\n",
    "JPM['Return']=np.log(JPM['Open']/JPM['Open'].shift(1))\n",
    "    "
   ]
  },
  {
   "cell_type": "code",
   "execution_count": 18,
   "metadata": {},
   "outputs": [
    {
     "name": "stdout",
     "output_type": "stream",
     "text": [
      "                High       Low      Open     Close  RSI  SMA  Corr       SAR  \\\n",
      "Date                                                                           \n",
      "1990-05-15       NaN       NaN  8.708333       NaN  NaN  NaN   NaN       NaN   \n",
      "1990-05-16  9.041667  8.666667  8.875000  8.958333  NaN  NaN   NaN       NaN   \n",
      "1990-05-17  8.916667  8.666667  8.916667  8.833333  NaN  NaN   NaN  8.916667   \n",
      "1990-05-18  8.958333  8.750000  8.958333  8.833333  NaN  NaN   NaN  8.666667   \n",
      "1990-05-21  9.000000  8.916667  8.833333  8.916667  NaN  NaN   NaN  8.666667   \n",
      "\n",
      "            ADX    Return  \n",
      "Date                       \n",
      "1990-05-15  NaN       NaN  \n",
      "1990-05-16  NaN  0.018958  \n",
      "1990-05-17  NaN  0.004684  \n",
      "1990-05-18  NaN  0.004662  \n",
      "1990-05-21  NaN -0.014052  \n"
     ]
    }
   ],
   "source": [
    "print(JPM.head())"
   ]
  },
  {
   "cell_type": "markdown",
   "metadata": {},
   "source": [
    "I have coded to drop all of the 'NaN' values. So in order to get the machine to learn the dataset, those 'NaN' values need to be dropped to get an optimal result. Its algorithm is below."
   ]
  },
  {
   "cell_type": "code",
   "execution_count": 19,
   "metadata": {},
   "outputs": [],
   "source": [
    "JPM=JPM.dropna()"
   ]
  },
  {
   "cell_type": "markdown",
   "metadata": {},
   "source": [
    "Below is where the real work starts, I have coded the Unsupervised Learning Algorithm to make the regime prediction. I have added splits for the dataset, variables have been defined.\n",
    "\n",
    "The scatter graph being outputted shows the Co-variances for Regimes 0-3. The Co-Variances in terms of finance is defined by two variables which tells us how likely would the stock market increase or vice-versa. A positive Co-Variance usually means that the price of one stock would go up as well as the other would too, whereas a negative Co-Variance, the price of one stock goes down, the other stock would follow that pattern. "
   ]
  },
  {
   "cell_type": "code",
   "execution_count": 20,
   "metadata": {},
   "outputs": [
    {
     "name": "stderr",
     "output_type": "stream",
     "text": [
      "C:\\Users\\kelba\\anaconda3\\lib\\site-packages\\seaborn\\axisgrid.py:243: UserWarning: The `size` parameter has been renamed to `height`; please update your code.\n",
      "  warnings.warn(msg, UserWarning)\n"
     ]
    },
    {
     "data": {
      "image/png": "[encoded data removed]",
      "text/plain": [
       "<Figure size 622x288 with 1 Axes>"
      ]
     },
     "metadata": {
      "needs_background": "light"
     },
     "output_type": "display_data"
    },
    {
     "name": "stdout",
     "output_type": "stream",
     "text": [
      "Mean for regime 0:  1.03587227368567\n",
      "Co_Variance for regime 0:  0.23659791134699615\n",
      "Mean for regime 1:  -0.4535461853490202\n",
      "Co_Variance for regime 1:  0.45362302457153186\n",
      "Mean for regime 2:  0.2363771079542735\n",
      "Co_Variance for regime 2:  1.207786776468411\n",
      "Mean for regime 3:  -0.24768305196295642\n",
      "Co_Variance for regime 3:  0.20040326418392831\n"
     ]
    }
   ],
   "source": [
    "ss = StandardScaler()\n",
    "unsup = mix.GaussianMixture(n_components=4,\n",
    "                           covariance_type = \"spherical\",\n",
    "                           n_init = 100,\n",
    "                           random_state = 42)\n",
    "JPM = JPM.drop(['Open','High','Low','Close'], axis = 1)\n",
    "unsup.fit(np.reshape(ss.fit_transform(JPM[:split]),(-1,JPM.shape[1])))\n",
    "regime = unsup.predict(np.reshape(ss.fit_transform(JPM[split:]),\\\n",
    "                                                        (-1,JPM.shape[1])))\n",
    "Regimes = pd.DataFrame(regime,columns=['Regime'],index=JPM[split:].index)\\\n",
    ".join(JPM[split:],how='inner')\\\n",
    ".assign(market_cu_return=JPM[split:]\\\n",
    "       .Return.cumsum())\\\n",
    ".reset_index(drop=False)\\\n",
    ".rename(columns={'index':'Date'})\n",
    "\n",
    "order=[0,1,2,3]\n",
    "fig = sns.FacetGrid(data=Regimes,hue='Regime',hue_order=order,aspect=2,size=4)\n",
    "fig.map(plt.scatter,'Date','market_cu_return',s=4).add_legend()\n",
    "plt.show()\n",
    "\n",
    "for i in order:\n",
    "    print('Mean for regime %i: '%i,unsup.means_[i][0])\n",
    "    print('Co_Variance for regime %i: '%i,(unsup.covariances_[i]))\n"
   ]
  },
  {
   "cell_type": "markdown",
   "metadata": {},
   "source": [
    "Furthermore, The Dataframe and its Regimes are scaled, excluding the Date and Regimes columns, By this method, There would not be any loss of features, However, the data will be scaled and ready for training the support vector classifier algorithm. \n",
    "Next, I created a signal column which would act as the prediction values. The algorithm would train on the features’ set to predict this signal."
   ]
  },
  {
   "cell_type": "code",
   "execution_count": 21,
   "metadata": {},
   "outputs": [],
   "source": [
    "ss1=StandardScaler()\n",
    "columns=Regimes.columns.drop(['Regime','Date'])\n",
    "Regimes[columns]=ss1.fit_transform(Regimes[columns])\n",
    "Regimes['Signal']=0\n",
    "Regimes.loc[Regimes['Return']>0,'Signal']=1\n",
    "Regimes.loc[Regimes['Return']<0,'Signal']=-1"
   ]
  },
  {
   "cell_type": "markdown",
   "metadata": {},
   "source": [
    "Next, I defined a function for the support vector classifier. "
   ]
  },
  {
   "cell_type": "code",
   "execution_count": 22,
   "metadata": {},
   "outputs": [],
   "source": [
    "cls = SVC(C=1.0,cache_size=200,class_weight=None,coef0=0.0,\n",
    "          decision_function_shape=None, degree = 3, gamma='auto', kernel = 'rbf',\n",
    "          max_iter = -1, probability = False, random_state=None, shrinking=True,\n",
    "          tol = 0.001, verbose=False)"
   ]
  },
  {
   "cell_type": "markdown",
   "metadata": {},
   "source": [
    "Next, its dataset is split for the Unsupervised Regime Algorithm into training and testing data. This new classifier would be used to train and test the new support vector classifier algorithm. I went ahead to drop its columns from the features, such as 'Signal','Return','market_cu_return', and 'Date'. "
   ]
  },
  {
   "cell_type": "code",
   "execution_count": 23,
   "metadata": {},
   "outputs": [
    {
     "data": {
      "text/plain": [
       "SVC(C=1.0, break_ties=False, cache_size=200, class_weight=None, coef0=0.0,\n",
       "    decision_function_shape=None, degree=3, gamma='auto', kernel='rbf',\n",
       "    max_iter=-1, probability=False, random_state=None, shrinking=True,\n",
       "    tol=0.001, verbose=False)"
      ]
     },
     "execution_count": 23,
     "metadata": {},
     "output_type": "execute_result"
    }
   ],
   "source": [
    "split2 = int(.8*len(Regimes))\n",
    "X = Regimes.drop(['Signal','Return','market_cu_return','Date'], axis = 1)\n",
    "y = Regimes['Signal']\n",
    "cls.fit(X[:split2],y[:split2])"
   ]
  },
  {
   "cell_type": "markdown",
   "metadata": {},
   "source": [
    "Its test size is calculated test set size and indexed according to the DataFrame 'JPM'. \n",
    "\n",
    "The reason for doing this is that the original return values of ‘JPM’ are stored in JPM, while those in Regimes is scaled thus, would not be useful for taking a cumulative sum to check for the performance."
   ]
  },
  {
   "cell_type": "code",
   "execution_count": 24,
   "metadata": {},
   "outputs": [],
   "source": [
    "p_data=len(X)-split2"
   ]
  },
  {
   "cell_type": "markdown",
   "metadata": {},
   "source": [
    "Furthermore, The predictions made by the SVC are stored under the column named 'Pred_Signal'.\n",
    "\n",
    "Then, based on these signals I calculated the returns of the strategy by multiplying signal at the beginning of the day with the return at the opening because the returns are from 'Open-Open' of the next day."
   ]
  },
  {
   "cell_type": "code",
   "execution_count": 25,
   "metadata": {},
   "outputs": [
    {
     "name": "stdout",
     "output_type": "stream",
     "text": [
      "Date\n",
      "2018-09-18   -1\n",
      "2018-09-19   -1\n",
      "2018-09-20   -1\n",
      "2018-09-21   -1\n",
      "2018-09-24   -1\n",
      "             ..\n",
      "2020-05-11   -1\n",
      "2020-05-12   -1\n",
      "2020-05-13   -1\n",
      "2020-05-14   -1\n",
      "2020-05-15   -1\n",
      "Name: Predicted_Signal, Length: 418, dtype: int64\n"
     ]
    }
   ],
   "source": [
    "JPM['Predicted_Signal']=0\n",
    "JPM.iloc[-p_data:,JPM.columns.get_loc('Predicted_Signal')]=cls.predict(X[split2:])\n",
    "print(JPM['Predicted_Signal'][-p_data:])\n",
    "JPM['str_ret'] = JPM['Predicted_Signal']*JPM['Return'].shift(-1)"
   ]
  },
  {
   "cell_type": "markdown",
   "metadata": {},
   "source": [
    "Lastly, the cumulative strategy returns and the cumulative market returns were calculated and stored them in 'JPM'. Then, I calculated the sharpe ratio to measure the performance. To understand this metric, I plotted the performance to measure it. Futhermore, the Shapre Ratio defined in Finance is the a measure that indicates the average return minus the risk-free return divided by the standard deviation of return on an investment. Below will show its ranges to tell the difference what is a good return on investment and vice-versa.\n",
    "\n",
    "- Sharpe Ratio > 1: 'Acceptable' \n",
    "- Sharpe Ratio > 2.0: 'Very Good'\n",
    "- Sharpe Ratio > 3.0: 'Excellent'\n",
    "\n",
    "This Sharpe Ratio we get a result of 4.35 which shows it is an 'Excellent' return on investment."
   ]
  },
  {
   "cell_type": "code",
   "execution_count": 26,
   "metadata": {},
   "outputs": [
    {
     "data": {
      "image/png": "[encoded data removed]",
      "text/plain": [
       "<Figure size 432x288 with 1 Axes>"
      ]
     },
     "metadata": {
      "needs_background": "light"
     },
     "output_type": "display_data"
    }
   ],
   "source": [
    "JPM['strategy_cu_return']=0\n",
    "JPM['market_cu_return']=0\n",
    "JPM.iloc[-p_data:,JPM.columns.get_loc('strategy_cu_return')]\\\n",
    "= np.nancumsum(JPM['str_ret'][-p_data:])\n",
    "JPM.iloc[-p_data:,JPM.columns.get_loc('market_cu_return')]\\\n",
    "= np.nancumsum(JPM['Return'][-p_data:])\n",
    "\n",
    "Sharpe = (JPM['strategy_cu_return'][-1]-JPM['market_cu_return'][-1])\\\n",
    "/np.nanstd(JPM['strategy_cu_return'][-p_data:])\n",
    "\n",
    "plt.plot(JPM['strategy_cu_return'][-p_data:],color = 'b',label = 'Predicted Returns')\n",
    "plt.plot(JPM['market_cu_return'][-p_data:],color = 'g',label = 'Actual Returns')\n",
    "plt.figtext(0.14,0.9,s='Sharpe Ratio: %.2f'%Sharpe)\n",
    "plt.legend(loc='best')\n",
    "plt.show()"
   ]
  },
  {
   "cell_type": "markdown",
   "metadata": {},
   "source": [
    "# Conclusion"
   ]
  },
  {
   "cell_type": "markdown",
   "metadata": {},
   "source": [
    "This was a great example to implement Regression Testing for verification. This was also a great example to learn and implement Naive Bayes algorithm to understand the possible share value of JPM"
   ]
  },
  {
   "cell_type": "code",
   "execution_count": null,
   "metadata": {},
   "outputs": [],
   "source": []
  }
 ],
 "metadata": {
  "kernelspec": {
   "display_name": "Python 3",
   "language": "python",
   "name": "python3"
  },
  "language_info": {
   "codemirror_mode": {
    "name": "ipython",
    "version": 3
   },
   "file_extension": ".py",
   "mimetype": "text/x-python",
   "name": "python",
   "nbconvert_exporter": "python",
   "pygments_lexer": "ipython3",
   "version": "3.7.6"
  }
 },
 "nbformat": 4,
 "nbformat_minor": 4
}
