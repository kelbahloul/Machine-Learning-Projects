{
 "cells": [
  {
   "cell_type": "markdown",
   "metadata": {},
   "source": [
    "# Predicting Tesla (TSLA) Buy/Sell and Analysis"
   ]
  },
  {
   "cell_type": "markdown",
   "metadata": {},
   "source": [
    "Company Background:\n",
    "\n",
    "Tesla (TSLA), is an American Automobile company who is known for their all electric vehicles. They have started to enter the stock market in 2010 starting at $19-$24/share. This company has raised the bar to promote all electric in an effort to make disel gas a thing of the past. Not only cars Tesla manufactures, they also produce solar panels, charging at home stations as well as adding electric recharge stations. As of current, Tesla is at a market value of $803.33/share on the NASDAQ Exchange.\n",
    "\n",
    "Discussion:\n",
    "\n",
    "In this analysis, I will be analyzing their buy/sell trend. The purpose of this analysis will be looking at the potential to whether Tesla would predict a Buy(1) or Sell(-1). To aid in predicting the buy or sell strategy, I will be deploying the following Machine Learning Packages and Libraries.\n",
    "\n",
    "- Pandas: Used for Data Manipulation and Importing Dataset\n",
    "- YFinance: Yahoo Finance API to get historical stock data from Yahoo Finance servers\n",
    "- Numpy: Used for converting from a DataFrame into an array\n",
    "- Matplotlib: Utilized for the purposes of plotting a graph for Data Visualization\n",
    "- Sklearn: Machine Learning library used for the purposes of classification, regression, and clustering algorithms\n",
    "- Talib: Used for Technical Analysis, such as RSI (Relative Strength Index), Difference in Open price of yesterday and today, and difference in Open, Close, High, Low. This is widely used by Software Traders who do alot of analysis on financial market data. "
   ]
  },
  {
   "cell_type": "code",
   "execution_count": 297,
   "metadata": {},
   "outputs": [],
   "source": [
    "#Importing Packages\n",
    "import matplotlib.pyplot as plt\n",
    "%matplotlib inline\n",
    "import pandas as pd\n",
    "import numpy as np\n",
    "\n",
    "#Technical Analysis\n",
    "import talib as ta\n",
    "\n",
    "#Machine Learning Packages\n",
    "from sklearn.linear_model import LogisticRegression\n",
    "from sklearn import metrics\n",
    "from sklearn.model_selection import cross_val_score\n",
    "\n",
    "#Getting Historical Stock Data From Yahoo Finance API\n",
    "from pandas_datareader import data as pdr\n",
    "import yfinance as yf\n",
    "yf.pdr_override()"
   ]
  },
  {
   "cell_type": "code",
   "execution_count": 298,
   "metadata": {},
   "outputs": [
    {
     "name": "stdout",
     "output_type": "stream",
     "text": [
      "[*********************100%***********************]  1 of 1 completed\n"
     ]
    },
    {
     "data": {
      "text/html": [
       "<div>\n",
       "<style scoped>\n",
       "    .dataframe tbody tr th:only-of-type {\n",
       "        vertical-align: middle;\n",
       "    }\n",
       "\n",
       "    .dataframe tbody tr th {\n",
       "        vertical-align: top;\n",
       "    }\n",
       "\n",
       "    .dataframe thead th {\n",
       "        text-align: right;\n",
       "    }\n",
       "</style>\n",
       "<table border=\"1\" class=\"dataframe\">\n",
       "  <thead>\n",
       "    <tr style=\"text-align: right;\">\n",
       "      <th></th>\n",
       "      <th>Open</th>\n",
       "      <th>High</th>\n",
       "      <th>Low</th>\n",
       "      <th>Close</th>\n",
       "    </tr>\n",
       "    <tr>\n",
       "      <th>Date</th>\n",
       "      <th></th>\n",
       "      <th></th>\n",
       "      <th></th>\n",
       "      <th></th>\n",
       "    </tr>\n",
       "  </thead>\n",
       "  <tbody>\n",
       "    <tr>\n",
       "      <th>2010-06-29</th>\n",
       "      <td>19.000000</td>\n",
       "      <td>25.00</td>\n",
       "      <td>17.540001</td>\n",
       "      <td>23.889999</td>\n",
       "    </tr>\n",
       "    <tr>\n",
       "      <th>2010-06-30</th>\n",
       "      <td>25.790001</td>\n",
       "      <td>30.42</td>\n",
       "      <td>23.299999</td>\n",
       "      <td>23.830000</td>\n",
       "    </tr>\n",
       "    <tr>\n",
       "      <th>2010-07-01</th>\n",
       "      <td>25.000000</td>\n",
       "      <td>25.92</td>\n",
       "      <td>20.270000</td>\n",
       "      <td>21.959999</td>\n",
       "    </tr>\n",
       "    <tr>\n",
       "      <th>2010-07-02</th>\n",
       "      <td>23.000000</td>\n",
       "      <td>23.10</td>\n",
       "      <td>18.709999</td>\n",
       "      <td>19.200001</td>\n",
       "    </tr>\n",
       "    <tr>\n",
       "      <th>2010-07-06</th>\n",
       "      <td>20.000000</td>\n",
       "      <td>20.00</td>\n",
       "      <td>15.830000</td>\n",
       "      <td>16.110001</td>\n",
       "    </tr>\n",
       "  </tbody>\n",
       "</table>\n",
       "</div>"
      ],
      "text/plain": [
       "                 Open   High        Low      Close\n",
       "Date                                              \n",
       "2010-06-29  19.000000  25.00  17.540001  23.889999\n",
       "2010-06-30  25.790001  30.42  23.299999  23.830000\n",
       "2010-07-01  25.000000  25.92  20.270000  21.959999\n",
       "2010-07-02  23.000000  23.10  18.709999  19.200001\n",
       "2010-07-06  20.000000  20.00  15.830000  16.110001"
      ]
     },
     "execution_count": 298,
     "metadata": {},
     "output_type": "execute_result"
    }
   ],
   "source": [
    "#Importing Stock Data Using Ticker Symbol 'TSLA'\n",
    "tsla = pdr.get_data_yahoo('TSLA', '2010-05-13','2020-05-13')\n",
    "tsla = tsla.dropna()\n",
    "tsla = tsla.iloc[:,:4]\n",
    "tsla.head()"
   ]
  },
  {
   "cell_type": "code",
   "execution_count": 299,
   "metadata": {},
   "outputs": [],
   "source": [
    "#Defining Variables and Prediction Signals\n",
    "\n",
    "tsla['S_10'] = tsla['Close'].rolling(window=30).mean()\n",
    "tsla['Corr'] = tsla['Close'].corr(tsla['S_10'])\n",
    "tsla['RSI'] = ta.RSI(np.array(tsla['Close']), timeperiod =30)\n",
    "tsla['Open-Close'] = tsla['Open'] - tsla['Close'].shift(1)\n",
    "tsla['Open-Close'] = tsla['Open'] - tsla['Open'].shift(1)\n",
    "tsla = tsla.dropna()\n",
    "X = tsla.iloc[:,:9]"
   ]
  },
  {
   "cell_type": "code",
   "execution_count": 300,
   "metadata": {},
   "outputs": [],
   "source": [
    "y = np.where(tsla['Close'].shift(-1) > tsla['Close'],1,-1)"
   ]
  },
  {
   "cell_type": "markdown",
   "metadata": {},
   "source": [
    "Below, The dataset has been split into 30% Train and 70% Testing"
   ]
  },
  {
   "cell_type": "code",
   "execution_count": 301,
   "metadata": {},
   "outputs": [],
   "source": [
    "#Splitting Dataset into Testing and Training\n",
    "\n",
    "split = int(0.3*len(tsla))\n",
    "X_train, X_test, y_train, y_test = X[:split], X[split:], y[:split], y[split:]"
   ]
  },
  {
   "cell_type": "code",
   "execution_count": 302,
   "metadata": {},
   "outputs": [],
   "source": [
    "model = LogisticRegression()\n",
    "model = model.fit(X_train,y_train)"
   ]
  },
  {
   "cell_type": "code",
   "execution_count": 303,
   "metadata": {},
   "outputs": [
    {
     "data": {
      "text/html": [
       "<div>\n",
       "<style scoped>\n",
       "    .dataframe tbody tr th:only-of-type {\n",
       "        vertical-align: middle;\n",
       "    }\n",
       "\n",
       "    .dataframe tbody tr th {\n",
       "        vertical-align: top;\n",
       "    }\n",
       "\n",
       "    .dataframe thead th {\n",
       "        text-align: right;\n",
       "    }\n",
       "</style>\n",
       "<table border=\"1\" class=\"dataframe\">\n",
       "  <thead>\n",
       "    <tr style=\"text-align: right;\">\n",
       "      <th></th>\n",
       "      <th>0</th>\n",
       "      <th>1</th>\n",
       "    </tr>\n",
       "  </thead>\n",
       "  <tbody>\n",
       "    <tr>\n",
       "      <th>0</th>\n",
       "      <td>Open</td>\n",
       "      <td>[0.18918375377119304]</td>\n",
       "    </tr>\n",
       "    <tr>\n",
       "      <th>1</th>\n",
       "      <td>High</td>\n",
       "      <td>[-0.05941751723994808]</td>\n",
       "    </tr>\n",
       "    <tr>\n",
       "      <th>2</th>\n",
       "      <td>Low</td>\n",
       "      <td>[-0.36566696161892615]</td>\n",
       "    </tr>\n",
       "    <tr>\n",
       "      <th>3</th>\n",
       "      <td>Close</td>\n",
       "      <td>[0.1963202389083372]</td>\n",
       "    </tr>\n",
       "    <tr>\n",
       "      <th>4</th>\n",
       "      <td>S_10</td>\n",
       "      <td>[0.051380914552973424]</td>\n",
       "    </tr>\n",
       "    <tr>\n",
       "      <th>5</th>\n",
       "      <td>Corr</td>\n",
       "      <td>[0.022135177524961032]</td>\n",
       "    </tr>\n",
       "    <tr>\n",
       "      <th>6</th>\n",
       "      <td>RSI</td>\n",
       "      <td>[-0.009826476427987887]</td>\n",
       "    </tr>\n",
       "    <tr>\n",
       "      <th>7</th>\n",
       "      <td>Open-Close</td>\n",
       "      <td>[-0.05533955377660647]</td>\n",
       "    </tr>\n",
       "  </tbody>\n",
       "</table>\n",
       "</div>"
      ],
      "text/plain": [
       "            0                        1\n",
       "0        Open    [0.18918375377119304]\n",
       "1        High   [-0.05941751723994808]\n",
       "2         Low   [-0.36566696161892615]\n",
       "3       Close     [0.1963202389083372]\n",
       "4        S_10   [0.051380914552973424]\n",
       "5        Corr   [0.022135177524961032]\n",
       "6         RSI  [-0.009826476427987887]\n",
       "7  Open-Close   [-0.05533955377660647]"
      ]
     },
     "execution_count": 303,
     "metadata": {},
     "output_type": "execute_result"
    }
   ],
   "source": [
    "#Examining the Dataset Coefficients\n",
    "pd.DataFrame(zip(X.columns, np.transpose(model.coef_)))"
   ]
  },
  {
   "cell_type": "code",
   "execution_count": 304,
   "metadata": {},
   "outputs": [
    {
     "name": "stdout",
     "output_type": "stream",
     "text": [
      "[[1.85028390e-02 9.81497161e-01]\n",
      " [1.14880403e-02 9.88511960e-01]\n",
      " [3.17226969e-01 6.82773031e-01]\n",
      " ...\n",
      " [7.09640902e-04 9.99290359e-01]\n",
      " [6.21563377e-04 9.99378437e-01]\n",
      " [6.36788585e-02 9.36321141e-01]]\n"
     ]
    }
   ],
   "source": [
    "#Getting the Model Probability\n",
    "probability = model.predict_proba(X_test)\n",
    "print (probability)"
   ]
  },
  {
   "cell_type": "code",
   "execution_count": 305,
   "metadata": {},
   "outputs": [
    {
     "name": "stdout",
     "output_type": "stream",
     "text": [
      "[[1.85028390e-02 9.81497161e-01]\n",
      " [1.14880403e-02 9.88511960e-01]\n",
      " [3.17226969e-01 6.82773031e-01]\n",
      " ...\n",
      " [7.09640902e-04 9.99290359e-01]\n",
      " [6.21563377e-04 9.99378437e-01]\n",
      " [6.36788585e-02 9.36321141e-01]]\n"
     ]
    }
   ],
   "source": [
    "probability = model.predict_proba(X_test)\n",
    "print(probability)\n",
    "\n",
    "predicted = model.predict(X_test)"
   ]
  },
  {
   "cell_type": "code",
   "execution_count": 306,
   "metadata": {},
   "outputs": [
    {
     "name": "stdout",
     "output_type": "stream",
     "text": [
      "[[  7 835]\n",
      " [  4 873]]\n"
     ]
    }
   ],
   "source": [
    "print(metrics.confusion_matrix(y_test, predicted))"
   ]
  },
  {
   "cell_type": "markdown",
   "metadata": {},
   "source": [
    "Classification Report:\n",
    "\n",
    "According to the classification report below, we can see that the Accuracy Score under (f1-Score) shows that our Sell (-1) shows a 0.02% whereas the Buy (1) shows a 68% accuracy.   "
   ]
  },
  {
   "cell_type": "code",
   "execution_count": 307,
   "metadata": {},
   "outputs": [
    {
     "name": "stdout",
     "output_type": "stream",
     "text": [
      "              precision    recall  f1-score   support\n",
      "\n",
      "          -1       0.64      0.01      0.02       842\n",
      "           1       0.51      1.00      0.68       877\n",
      "\n",
      "    accuracy                           0.51      1719\n",
      "   macro avg       0.57      0.50      0.35      1719\n",
      "weighted avg       0.57      0.51      0.35      1719\n",
      "\n"
     ]
    }
   ],
   "source": [
    "print(metrics.classification_report(y_test, predicted))"
   ]
  },
  {
   "cell_type": "code",
   "execution_count": 308,
   "metadata": {},
   "outputs": [
    {
     "name": "stdout",
     "output_type": "stream",
     "text": [
      "0.5119255381035486\n"
     ]
    }
   ],
   "source": [
    "print(model.score(X_test,y_test))\n",
    "#This is the Accuracy Score"
   ]
  },
  {
   "cell_type": "code",
   "execution_count": 309,
   "metadata": {},
   "outputs": [
    {
     "name": "stdout",
     "output_type": "stream",
     "text": [
      "[0.51219512 0.51219512 0.51626016 0.49593496 0.49186992 0.53877551\n",
      " 0.53469388 0.49795918 0.49387755 0.44489796]\n",
      "0.5038659366185498\n"
     ]
    }
   ],
   "source": [
    "cross_val = cross_val_score(LogisticRegression(), X, y, scoring='accuracy', cv=10)\n",
    "print(cross_val)\n",
    "print(cross_val.mean())"
   ]
  },
  {
   "cell_type": "markdown",
   "metadata": {},
   "source": [
    "Buy/Sell Prediction Strategy Graph Output"
   ]
  },
  {
   "cell_type": "code",
   "execution_count": 310,
   "metadata": {},
   "outputs": [
    {
     "data": {
      "image/png": "[encoded data removed]",
      "text/plain": [
       "<Figure size 720x360 with 1 Axes>"
      ]
     },
     "metadata": {
      "needs_background": "light"
     },
     "output_type": "display_data"
    }
   ],
   "source": [
    "tsla['Predicted_Signal'] = model.predict(X)\n",
    "tsla['Tesla_returns'] = np.log(tsla['Close']/tsla['Close'].shift(1))\n",
    "Cumulative_tesla_returns = np.cumsum(tsla[split:]['Tesla_returns'])\n",
    "\n",
    "tsla['Startegy_returns'] = tsla['Tesla_returns']* tsla['Predicted_Signal'].shift(1)\n",
    "Cumulative_Strategy_returns = np.cumsum(tsla[split:]['Startegy_returns'])\n",
    "\n",
    "plt.figure(figsize=(10,5))\n",
    "plt.plot(Cumulative_tesla_returns, color='b',label = 'tesla Returns')\n",
    "plt.plot(Cumulative_Strategy_returns, color='g', label = 'Strategy Returns')\n",
    "plt.legend()\n",
    "plt.ylabel('Sell/Buy')\n",
    "plt.xlabel('Date')\n",
    "plt.show()"
   ]
  },
  {
   "cell_type": "markdown",
   "metadata": {},
   "source": [
    "# Conclusion"
   ]
  },
  {
   "cell_type": "markdown",
   "metadata": {},
   "source": [
    "In summary, we can conclude that buying Tesla is perferred based on the fact that their current market trends are soaring upward than selling the stock. Tesla has the potential to become a well profitable company in the Auto Industry. Overall, I would buy Tesla because as of current, they stand at $803.33/share and that should attract investors who want to flood capital into the electric vehicle market. Nowadays, electric vehicles start to become more of a trend to curb the enviormental crisis because of carbon emissions from disel vehicles. In the end, Tesla is a great buy to invest if you are a believer in all electric transportation.  "
   ]
  },
  {
   "cell_type": "code",
   "execution_count": null,
   "metadata": {},
   "outputs": [],
   "source": []
  }
 ],
 "metadata": {
  "kernelspec": {
   "display_name": "Python 3",
   "language": "python",
   "name": "python3"
  },
  "language_info": {
   "codemirror_mode": {
    "name": "ipython",
    "version": 3
   },
   "file_extension": ".py",
   "mimetype": "text/x-python",
   "name": "python",
   "nbconvert_exporter": "python",
   "pygments_lexer": "ipython3",
   "version": "3.7.6"
  }
 },
 "nbformat": 4,
 "nbformat_minor": 4
}
